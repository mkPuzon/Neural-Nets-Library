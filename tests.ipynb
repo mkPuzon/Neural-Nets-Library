{
 "cells": [
  {
   "cell_type": "code",
   "execution_count": null,
   "id": "f8db3653",
   "metadata": {},
   "outputs": [],
   "source": [
    "import numpy as np\n",
    "import matplotlib.pyplot as plt\n",
    "\n",
    "plt.style.use(['seaborn-v0_8-colorblind', 'seaborn-v0_8-darkgrid'])\n",
    "# plt.rcParams.update({'font.size': 20})\n",
    "plt.rcParams.update({'font.size': 24})\n",
    "plt.show()\n",
    "\n",
    "np.set_printoptions(suppress=True)\n",
    "\n",
    "# Automatically reload external modules\n",
    "%load_ext autoreload\n",
    "%autoreload 2"
   ]
  },
  {
   "cell_type": "code",
   "execution_count": null,
   "id": "8999a4c2",
   "metadata": {},
   "outputs": [],
   "source": [
    "import os\n",
    "import yaml\n",
    "import tensorflow as tf\n",
    "from tensorflow.keras import layers, models, optimizers, losses, metrics\n",
    "\n",
    "from utils import get_data_params, get_net_params \n"
   ]
  },
  {
   "cell_type": "code",
   "execution_count": null,
   "id": "0ebd2524",
   "metadata": {},
   "outputs": [],
   "source": [
    "cnn_params = get_net_params(\"cnn_config\")\n",
    "data_params = get_data_params(\"mnist_basic\")"
   ]
  }
 ],
 "metadata": {
  "kernelspec": {
   "display_name": ".venv",
   "language": "python",
   "name": "python3"
  },
  "language_info": {
   "name": "python",
   "version": "3.11.9"
  }
 },
 "nbformat": 4,
 "nbformat_minor": 5
}
