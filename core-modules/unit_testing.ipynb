{
 "cells": [
  {
   "cell_type": "markdown",
   "id": "9e4560b8",
   "metadata": {},
   "source": [
    "# ===== Testing Layer Classes ====="
   ]
  },
  {
   "cell_type": "markdown",
   "id": "b17d2c96",
   "metadata": {},
   "source": [
    "## Abstract Layer Class Implementation\n",
    "Cannot make an instance of. Code like `test_layer = Layer(\"test)` throws a TypeError: Can't instantiate abstract class."
   ]
  },
  {
   "cell_type": "code",
   "execution_count": 1,
   "id": "fa1b2666",
   "metadata": {},
   "outputs": [
    {
     "name": "stdout",
     "output_type": "stream",
     "text": [
      "Dense layer 'test_dense' | output_shape: None\n",
      "Dropout layer 'test_dropout' | output_shape: None\n"
     ]
    }
   ],
   "source": [
    "from core_layers import Dense, Dropout\n",
    "\n",
    "test1 = Dense(name=\"test_dense\",\n",
    "             units=50,\n",
    "             activation=\"relu\",\n",
    "             prev_section=None,\n",
    "             do_batch_norm=False,\n",
    "             do_layer_norm=True)\n",
    "print(test1)\n",
    "\n",
    "test2 = Dropout(name=\"test_dropout\",\n",
    "                rate=0.5,\n",
    "                prev_section=test1)\n",
    "print(test2)"
   ]
  }
 ],
 "metadata": {
  "kernelspec": {
   "display_name": ".venv",
   "language": "python",
   "name": "python3"
  },
  "language_info": {
   "codemirror_mode": {
    "name": "ipython",
    "version": 3
   },
   "file_extension": ".py",
   "mimetype": "text/x-python",
   "name": "python",
   "nbconvert_exporter": "python",
   "pygments_lexer": "ipython3",
   "version": "3.11.0"
  }
 },
 "nbformat": 4,
 "nbformat_minor": 5
}
