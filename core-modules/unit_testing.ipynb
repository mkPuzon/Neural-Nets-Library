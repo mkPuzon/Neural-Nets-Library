{
 "cells": [
  {
   "cell_type": "markdown",
   "id": "9e4560b8",
   "metadata": {},
   "source": [
    "# ===== Testing Layer Classes ====="
   ]
  },
  {
   "cell_type": "markdown",
   "id": "b17d2c96",
   "metadata": {},
   "source": [
    "## Abstract Layer Class Implementation\n",
    "Cannot make an instance of. Code like `test_layer = Layer(\"test)` throws a TypeError: Can't instantiate abstract class."
   ]
  },
  {
   "cell_type": "code",
   "execution_count": 1,
   "id": "1586ca82",
   "metadata": {},
   "outputs": [],
   "source": [
    "from core_layers import Dense, Dropout, Flatten, MaxPool2D, Conv2D"
   ]
  },
  {
   "cell_type": "code",
   "execution_count": 2,
   "id": "fa1b2666",
   "metadata": {},
   "outputs": [
    {
     "name": "stdout",
     "output_type": "stream",
     "text": [
      "Dense layer 'test_dense' | output_shape: None\n",
      "Dropout layer 'test_dropout' | output_shape: None\n",
      "Flatten layer 'test_flatten' | output_shape: None\n",
      "Conv2D layer 'test_conv2d' | output_shape: None\n",
      "MaxPool2D layer 'test_maxpool2d' | output_shape: None\n"
     ]
    }
   ],
   "source": [
    "# ensure all method classes are filled in and layers can be created\n",
    "\n",
    "test1 = Dense(name=\"test_dense\", units=50, activation=\"relu\",\n",
    "             prev_section=None, do_batch_norm=False, do_layer_norm=True)\n",
    "print(test1)\n",
    "\n",
    "test2 = Dropout(name=\"test_dropout\", rate=0.5, prev_section=test1)\n",
    "print(test2)\n",
    "\n",
    "test3 = Flatten(name=\"test_flatten\", prev_section=test2)\n",
    "print(test3)\n",
    "\n",
    "test4 = Conv2D(name=\"test_conv2d\", units=10, prev_section=None)\n",
    "print(test4)\n",
    "\n",
    "test5 = MaxPool2D(name=\"test_maxpool2d\", prev_section=test4)\n",
    "print(test5)"
   ]
  },
  {
   "cell_type": "code",
   "execution_count": null,
   "id": "71a80e8f",
   "metadata": {},
   "outputs": [],
   "source": []
  }
 ],
 "metadata": {
  "kernelspec": {
   "display_name": ".venv",
   "language": "python",
   "name": "python3"
  },
  "language_info": {
   "codemirror_mode": {
    "name": "ipython",
    "version": 3
   },
   "file_extension": ".py",
   "mimetype": "text/x-python",
   "name": "python",
   "nbconvert_exporter": "python",
   "pygments_lexer": "ipython3",
   "version": "3.11.0"
  }
 },
 "nbformat": 4,
 "nbformat_minor": 5
}
