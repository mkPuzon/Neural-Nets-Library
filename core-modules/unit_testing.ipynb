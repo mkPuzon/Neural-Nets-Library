{
 "cells": [
  {
   "cell_type": "markdown",
   "id": "9e4560b8",
   "metadata": {},
   "source": [
    "# ===== Testing Layer Classes ====="
   ]
  },
  {
   "cell_type": "code",
   "execution_count": 1,
   "id": "ab655511",
   "metadata": {},
   "outputs": [],
   "source": [
    "import tensorflow as tf\n",
    "import numpy as np"
   ]
  },
  {
   "cell_type": "markdown",
   "id": "b17d2c96",
   "metadata": {},
   "source": [
    "## Abstract Layer Class Implementation\n",
    "Cannot make an instance of. Code like `test_layer = Layer(\"test)` throws a TypeError: Can't instantiate abstract class."
   ]
  },
  {
   "cell_type": "code",
   "execution_count": null,
   "id": "fa1b2666",
   "metadata": {},
   "outputs": [],
   "source": [
    "from layers import Dense"
   ]
  }
 ],
 "metadata": {
  "kernelspec": {
   "display_name": ".venv",
   "language": "python",
   "name": "python3"
  },
  "language_info": {
   "codemirror_mode": {
    "name": "ipython",
    "version": 3
   },
   "file_extension": ".py",
   "mimetype": "text/x-python",
   "name": "python",
   "nbconvert_exporter": "python",
   "pygments_lexer": "ipython3",
   "version": "3.11.0"
  }
 },
 "nbformat": 4,
 "nbformat_minor": 5
}
